{
 "cells": [
  {
   "cell_type": "code",
   "execution_count": 1,
   "metadata": {},
   "outputs": [],
   "source": [
    "import pandas as pn\n",
    "import numpy as np\n",
    "from sklearn.datasets import load_digits\n",
    "import seaborn as sns\n",
    "import matplotlib.pyplot as plt"
   ]
  },
  {
   "cell_type": "code",
   "execution_count": 2,
   "metadata": {},
   "outputs": [],
   "source": [
    "import glob\n",
    "from PIL import Image"
   ]
  },
  {
   "cell_type": "code",
   "execution_count": 3,
   "metadata": {},
   "outputs": [],
   "source": [
    "imgs = np.array([np.array(Image.open(path), dtype='float').ravel()\n",
    "                 for path in glob.glob(r'C:\\Users\\048943\\Desktop\\NeuroNetworks\\numbers\\?.BMP')])\n",
    "imgs[imgs == 0] = -1\n",
    "imgs[imgs == 255] = 1\n",
    "\n",
    "_imgs = np.array([np.array(Image.open(path), dtype='int')\n",
    "                 for path in glob.glob(r'C:\\Users\\048943\\Desktop\\NeuroNetworks\\numbers\\?.BMP')])"
   ]
  },
  {
   "cell_type": "markdown",
   "metadata": {},
   "source": [
    "## Пак с картинками потерян"
   ]
  },
  {
   "cell_type": "code",
   "execution_count": 4,
   "metadata": {},
   "outputs": [
    {
     "ename": "IndexError",
     "evalue": "index 0 is out of bounds for axis 0 with size 0",
     "output_type": "error",
     "traceback": [
      "\u001b[1;31m---------------------------------------------------------------------------\u001b[0m",
      "\u001b[1;31mIndexError\u001b[0m                                Traceback (most recent call last)",
      "Input \u001b[1;32mIn [4]\u001b[0m, in \u001b[0;36m<cell line: 3>\u001b[1;34m()\u001b[0m\n\u001b[0;32m      1\u001b[0m fig, ax \u001b[38;5;241m=\u001b[39m plt\u001b[38;5;241m.\u001b[39msubplots(\u001b[38;5;241m5\u001b[39m, \u001b[38;5;241m5\u001b[39m, figsize\u001b[38;5;241m=\u001b[39m(\u001b[38;5;241m8\u001b[39m, \u001b[38;5;241m8\u001b[39m), subplot_kw\u001b[38;5;241m=\u001b[39m{\u001b[38;5;124m'\u001b[39m\u001b[38;5;124mxticks\u001b[39m\u001b[38;5;124m'\u001b[39m: [], \u001b[38;5;124m'\u001b[39m\u001b[38;5;124myticks\u001b[39m\u001b[38;5;124m'\u001b[39m: []}, gridspec_kw\u001b[38;5;241m=\u001b[39m{\u001b[38;5;124m'\u001b[39m\u001b[38;5;124mhspace\u001b[39m\u001b[38;5;124m'\u001b[39m: \u001b[38;5;241m.1\u001b[39m, \u001b[38;5;124m'\u001b[39m\u001b[38;5;124mwspace\u001b[39m\u001b[38;5;124m'\u001b[39m: \u001b[38;5;241m.1\u001b[39m})\n\u001b[0;32m      3\u001b[0m \u001b[38;5;28;01mfor\u001b[39;00m i \u001b[38;5;129;01min\u001b[39;00m \u001b[38;5;28mrange\u001b[39m(\u001b[38;5;241m25\u001b[39m):\n\u001b[1;32m----> 4\u001b[0m     ax[i \u001b[38;5;241m%\u001b[39m \u001b[38;5;241m5\u001b[39m, i \u001b[38;5;241m/\u001b[39m\u001b[38;5;241m/\u001b[39m \u001b[38;5;241m5\u001b[39m]\u001b[38;5;241m.\u001b[39mimshow(\u001b[43m_imgs\u001b[49m\u001b[43m[\u001b[49m\u001b[43mi\u001b[49m\u001b[43m]\u001b[49m, cmap\u001b[38;5;241m=\u001b[39m\u001b[38;5;124m'\u001b[39m\u001b[38;5;124mbinary\u001b[39m\u001b[38;5;124m'\u001b[39m)\n",
      "\u001b[1;31mIndexError\u001b[0m: index 0 is out of bounds for axis 0 with size 0"
     ]
    },
    {
     "data": {
      "image/png": "[encoded data removed]",
      "text/plain": [
       "<Figure size 576x576 with 25 Axes>"
      ]
     },
     "metadata": {},
     "output_type": "display_data"
    }
   ],
   "source": [
    "fig, ax = plt.subplots(5, 5, figsize=(8, 8), subplot_kw={'xticks': [], 'yticks': []}, gridspec_kw={'hspace': .1, 'wspace': .1})\n",
    "\n",
    "for i in range(25):\n",
    "    ax[i % 5, i // 5].imshow(_imgs[i], cmap='binary')"
   ]
  },
  {
   "cell_type": "code",
   "execution_count": 183,
   "metadata": {},
   "outputs": [],
   "source": [
    "class HemmingNet:\n",
    "    n = None\n",
    "    m = None\n",
    "    \n",
    "    def __init__(self, epsilon=0.01, emax=0.1):\n",
    "        self.epsilon = epsilon\n",
    "        self.emax = emax\n",
    "\n",
    "    def __funk_activaton(self, y):\n",
    "        y[y > 2*self.m] = 2*self.m\n",
    "        y[y < 0] = 0\n",
    "        return y\n",
    "\n",
    "    def __first_layer(self, matrix_w, vector_y):\n",
    "        s1 = np.sum(matrix_w * vector_y, axis=1) + self.m / 2\n",
    "        return self.__funk_activaton(s1)\n",
    "\n",
    "    def __second_layer(self, f_lay):\n",
    "        y1 = f_lay\n",
    "        y2 = []\n",
    "        \n",
    "        if 0: # 1 - Вехний; 0 - Нижний\n",
    "            while True:\n",
    "                s2 = np.array([y1[i] - (self.epsilon * np.sum(y1[y1 != y1[i]])) for i in range(self.n)])\n",
    "                y2 = self.__funk_activaton(s2)\n",
    "                if np.linalg.norm(np.array([y2]) - np.array([y1])) <= self.emax:\n",
    "                    return y2\n",
    "                y1 = y2\n",
    "        else:\n",
    "            while True:\n",
    "                s2 = np.array([y1[i] for i in range(self.n)])\n",
    "                y2 = self.__funk_activaton(s2)\n",
    "                print(s2)\n",
    "                if np.linalg.norm(np.array([y2]) - np.array([y1])) <= self.emax:\n",
    "                    return y2\n",
    "                y1 = y2\n",
    "    \n",
    "    def fit(self, X, y):\n",
    "        self.n = len(imgs)\n",
    "        self.m = len(imgs[0])\n",
    "        f_lay = self.__first_layer(X / 2, y)\n",
    "        return self.__second_layer(f_lay)"
   ]
  },
  {
   "cell_type": "code",
   "execution_count": 184,
   "metadata": {},
   "outputs": [
    {
     "name": "stdout",
     "output_type": "stream",
     "text": [
      "[159. 156. 133. 157. 161. 159. 165. 140. 163. 167.]\n"
     ]
    },
    {
     "data": {
      "text/plain": [
       "9"
      ]
     },
     "execution_count": 184,
     "metadata": {},
     "output_type": "execute_result"
    }
   ],
   "source": [
    "y__ = np.array(Image.open(r'C:\\Users\\048943\\Desktop\\NeuroNetworks\\6b.BMP'), dtype='float').ravel()\n",
    "y__[y__ == 255] = 1\n",
    "y__[y__ == 0] = -1\n",
    "\n",
    "hrmming_net = HemmingNet()\n",
    "vertor = hrmming_net.fit(imgs, y__)\n",
    "res = np.argmax(vertor)\n",
    "res"
   ]
  },
  {
   "cell_type": "code",
   "execution_count": 165,
   "metadata": {},
   "outputs": [
    {
     "data": {
      "text/plain": [
       "Text(0.5,1,'Predict')"
      ]
     },
     "execution_count": 165,
     "metadata": {},
     "output_type": "execute_result"
    },
    {
     "data": {
      "image/png": "[encoded data removed]",
      "text/plain": [
       "<Figure size 432x288 with 2 Axes>"
      ]
     },
     "metadata": {
      "needs_background": "light"
     },
     "output_type": "display_data"
    }
   ],
   "source": [
    "fig, ax = plt.subplots(1, 2)\n",
    "\n",
    "ax[0].imshow(y__.reshape(16, 16))\n",
    "ax[0].set_title('Show')\n",
    "\n",
    "ax[1].imshow(imgs[res].reshape(16, 16))\n",
    "ax[1].set_title('Predict')"
   ]
  },
  {
   "cell_type": "code",
   "execution_count": 166,
   "metadata": {},
   "outputs": [],
   "source": [
    "plt.close('all')"
   ]
  },
  {
   "cell_type": "code",
   "execution_count": null,
   "metadata": {},
   "outputs": [],
   "source": []
  }
 ],
 "metadata": {
  "kernelspec": {
   "display_name": "Python 3 (ipykernel)",
   "language": "python",
   "name": "python3"
  },
  "language_info": {
   "codemirror_mode": {
    "name": "ipython",
    "version": 3
   },
   "file_extension": ".py",
   "mimetype": "text/x-python",
   "name": "python",
   "nbconvert_exporter": "python",
   "pygments_lexer": "ipython3",
   "version": "3.9.12"
  }
 },
 "nbformat": 4,
 "nbformat_minor": 2
}
